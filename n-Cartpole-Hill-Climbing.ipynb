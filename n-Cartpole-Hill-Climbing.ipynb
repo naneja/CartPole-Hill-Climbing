{
 "cells": [
  {
   "cell_type": "markdown",
   "metadata": {},
   "source": [
    "# Cartpole - Hill Climbing"
   ]
  },
  {
   "cell_type": "code",
   "execution_count": 1,
   "metadata": {},
   "outputs": [],
   "source": [
    "import gym\n",
    "import numpy as np\n",
    "from collections import deque\n",
    "import matplotlib.pyplot as plt\n",
    "\n",
    "%matplotlib inline"
   ]
  },
  {
   "cell_type": "code",
   "execution_count": 2,
   "metadata": {},
   "outputs": [
    {
     "name": "stdout",
     "output_type": "stream",
     "text": [
      "Observation Space  Box(4,)\n",
      "Action Space  Discrete(2)\n"
     ]
    }
   ],
   "source": [
    "env = gym.make('CartPole-v0')\n",
    "env.seed(0)\n",
    "np.random.seed(0)\n",
    "\n",
    "print('Observation Space ', env.observation_space)\n",
    "print('Action Space ', env.action_space)"
   ]
  },
  {
   "cell_type": "markdown",
   "metadata": {},
   "source": [
    "## Policy"
   ]
  },
  {
   "cell_type": "code",
   "execution_count": 3,
   "metadata": {},
   "outputs": [],
   "source": [
    "class Policy():\n",
    "    def __init__(self, s_size=4, a_size=2):\n",
    "        self.w = 1e-4 * np.random.rand(s_size, a_size)\n",
    "    \n",
    "    def forward(self, state):\n",
    "        x = np.dot(state, self.w)\n",
    "        x = np.exp(x) / sum(np.exp(x))\n",
    "        return x\n",
    "    \n",
    "    def act(self, state):\n",
    "        probs = self.forward(state)\n",
    "        action = np.argmax(probs) # Deterministic Policy\n",
    "        # action = np.random.choice(2, p=probs) # Stochastic Policy\n",
    "        return action"
   ]
  },
  {
   "cell_type": "markdown",
   "metadata": {},
   "source": [
    "## Training Agent"
   ]
  },
  {
   "cell_type": "code",
   "execution_count": 4,
   "metadata": {},
   "outputs": [
    {
     "name": "stdout",
     "output_type": "stream",
     "text": [
      "Episode 100 Avg Score 175.07\n",
      "[Solved] 13 Episodes Avg Score 196.49\n"
     ]
    }
   ],
   "source": [
    "policy = Policy()\n",
    "\n",
    "def hill_climbing(eps=1000, max_t=1000, gamma=1.0, pe=100, noise_scale=1e-2): # standard deviation of additive noise\n",
    "\n",
    "    scores_deque = deque(maxlen=100)\n",
    "    scores = []\n",
    "\n",
    "    best_R = -np.Inf\n",
    "    best_w = policy.w\n",
    "    \n",
    "    for i in range(1, eps+1):\n",
    "        rewards = []\n",
    "        state = env.reset()\n",
    "        \n",
    "        for t in range(max_t):\n",
    "            action = policy.act(state)\n",
    "            \n",
    "            state, reward, done, info = env.step(action)\n",
    "            \n",
    "            rewards.append(reward)\n",
    "            \n",
    "            if done:\n",
    "                break\n",
    "\n",
    "        scores_deque.append(sum(rewards))\n",
    "        scores.append(sum(rewards))\n",
    "        \n",
    "        discounts = [gamma**i for i in range(len(rewards)+1)]\n",
    "        R = [a*b for a,b in zip(discounts, rewards)]\n",
    "        R = sum(R)\n",
    "        \n",
    "        if R >= best_R:\n",
    "            best_R = R\n",
    "            best_w = policy.w\n",
    "            \n",
    "            noise_scale = max(1e-3, noise_scale/2)\n",
    "            policy.w = policy.w + noise_scale * np.random.rand(*policy.w.shape)\n",
    "            \n",
    "        else:\n",
    "            noise_scale = min(2, noise_scale*2)\n",
    "            policy.w = best_w + noise_scale * np.random.rand(*policy.w.shape)\n",
    "            \n",
    "    \n",
    "        if i % pe == 0:\n",
    "            print('Episode {} Avg Score {:.2f}'.format(i, np.mean(scores_deque)))\n",
    "            \n",
    "        if np.mean(scores_deque) > 195.0:\n",
    "            print('[Solved] {:d} Episodes Avg Score {:.2f}'.format(i-100, np.mean(scores_deque)))\n",
    "\n",
    "            policy.w = best_w\n",
    "            break\n",
    "            \n",
    "    return scores\n",
    "\n",
    "scores = hill_climbing()"
   ]
  },
  {
   "cell_type": "markdown",
   "metadata": {},
   "source": [
    "## Scores"
   ]
  },
  {
   "cell_type": "code",
   "execution_count": 5,
   "metadata": {},
   "outputs": [
    {
     "data": {
      "image/png": "[encoded data removed]",
      "text/plain": [
       "<Figure size 432x288 with 1 Axes>"
      ]
     },
     "metadata": {
      "needs_background": "light"
     },
     "output_type": "display_data"
    }
   ],
   "source": [
    "fig = plt.figure()\n",
    "ax = fig.add_subplot(111)\n",
    "\n",
    "x = np.arange(1, len(scores)+1)\n",
    "y = scores\n",
    "\n",
    "plt.plot(x, y)\n",
    "plt.ylabel('Score')\n",
    "plt.xlabel('Episode #')\n",
    "plt.show()"
   ]
  },
  {
   "cell_type": "markdown",
   "metadata": {},
   "source": [
    "## Agent"
   ]
  },
  {
   "cell_type": "code",
   "execution_count": 6,
   "metadata": {},
   "outputs": [],
   "source": [
    "from gym import wrappers\n",
    "\n",
    "env_to_wrap = gym.make('CartPole-v0')\n",
    "\n",
    "env = wrappers.Monitor(env_to_wrap, 'vid', force=True)\n",
    "\n",
    "state = env.reset()\n",
    "\n",
    "for t in range(200):\n",
    "    action = policy.act(state)\n",
    "    env.render()\n",
    "    state, reward, done, _ = env.step(action)\n",
    "\n",
    "    if done:\n",
    "        break \n",
    "\n",
    "env.close()"
   ]
  }
 ],
 "metadata": {
  "kernelspec": {
   "display_name": "Python 3",
   "language": "python",
   "name": "python3"
  },
  "language_info": {
   "codemirror_mode": {
    "name": "ipython",
    "version": 3
   },
   "file_extension": ".py",
   "mimetype": "text/x-python",
   "name": "python",
   "nbconvert_exporter": "python",
   "pygments_lexer": "ipython3",
   "version": "3.6.7"
  },
  "toc": {
   "base_numbering": 1,
   "nav_menu": {},
   "number_sections": true,
   "sideBar": true,
   "skip_h1_title": false,
   "title_cell": "Table of Contents",
   "title_sidebar": "Contents",
   "toc_cell": false,
   "toc_position": {},
   "toc_section_display": true,
   "toc_window_display": false
  }
 },
 "nbformat": 4,
 "nbformat_minor": 2
}
